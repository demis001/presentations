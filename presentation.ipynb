{
 "cells": [
  {
   "cell_type": "markdown",
   "metadata": {
    "slideshow": {
     "slide_type": "slide"
    }
   },
   "source": [
    "##Foo\n",
    "Bar\n"
   ]
  },
  {
   "cell_type": "code",
   "execution_count": 1,
   "metadata": {
    "collapsed": false,
    "slideshow": {
     "slide_type": "slide"
    }
   },
   "outputs": [
    {
     "name": "stdout",
     "output_type": "stream",
     "text": [
      "?\t\t\t\t\tmrsnbactpipeline\r\n",
      "16S_Metagenomics_databases\t\tMusic\r\n",
      "2014_programming\t\t\topt\r\n",
      "backup\t\t\t\t\toutdir\r\n",
      "bin\t\t\t\t\toutdir2\r\n",
      "clean\t\t\t\t\tperl5_old\r\n",
      "copy.tmux.conf\t\t\t\tPictures\r\n",
      "data\t\t\t\t\tPublic\r\n",
      "databases\t\t\t\tREADME\r\n",
      "Desktop\t\t\t\t\tsnake_eater.ps\r\n",
      "Documents\t\t\t\tSnap.20150512.124550.1126.0003.trc\r\n",
      "dotfiles\t\t\t\tSnap.20150512.124603.1158.0003.trc\r\n",
      "Downloads\t\t\t\tSnap.20150512.124652.1204.0003.trc\r\n",
      "igv\t\t\t\t\tsnippets\r\n",
      "include\t\t\t\t\tTemplates\r\n",
      "javacore.20150512.124550.1126.0002.txt\ttestrun\r\n",
      "javacore.20150512.124603.1158.0002.txt\ttestrun.bak\r\n",
      "javacore.20150512.124652.1204.0002.txt\ttmp\r\n",
      "jitdump.20150512.124550.1126.0004.dmp\tUntitled.ipynb\r\n",
      "jitdump.20150512.124603.1158.0004.dmp\tusamriidPathDiscov-4.0\r\n",
      "jitdump.20150512.124652.1204.0004.dmp\tVideos\r\n",
      "lib\t\t\t\t\t_vimrc_copy\r\n",
      "lib64\t\t\t\t\tVirtualBox VMs\r\n",
      "local\t\t\t\t\tvirtualenvs\r\n",
      "minimal_vimrc_best\r\n"
     ]
    }
   ],
   "source": [
    "!ls"
   ]
  }
 ],
 "metadata": {
  "celltoolbar": "Slideshow",
  "kernelspec": {
   "display_name": "Python 2",
   "language": "python",
   "name": "python2"
  },
  "language_info": {
   "codemirror_mode": {
    "name": "ipython",
    "version": 2
   },
   "file_extension": ".py",
   "mimetype": "text/x-python",
   "name": "python",
   "nbconvert_exporter": "python",
   "pygments_lexer": "ipython2",
   "version": "2.7.3"
  }
 },
 "nbformat": 4,
 "nbformat_minor": 0
}
